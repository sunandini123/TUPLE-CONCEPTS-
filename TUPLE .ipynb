{
 "cells": [
  {
   "cell_type": "markdown",
   "id": "76686f26-99a4-4944-adca-c6d1777d6a23",
   "metadata": {},
   "source": [
    "# TUPLE - ALL CONCEPTS - 23RD APRIL "
   ]
  },
  {
   "cell_type": "code",
   "execution_count": 4,
   "id": "279dddde-e7dc-47d1-bc6d-0ca0f2e31d45",
   "metadata": {},
   "outputs": [],
   "source": [
    "tup1=()"
   ]
  },
  {
   "cell_type": "code",
   "execution_count": 6,
   "id": "b40f270b-7f9f-474d-a8fa-53616514cf0d",
   "metadata": {},
   "outputs": [
    {
     "data": {
      "text/plain": [
       "()"
      ]
     },
     "execution_count": 6,
     "metadata": {},
     "output_type": "execute_result"
    }
   ],
   "source": [
    "tup1"
   ]
  },
  {
   "cell_type": "code",
   "execution_count": 8,
   "id": "8470a638-1de0-4bc3-93f9-5bca4ad694a0",
   "metadata": {},
   "outputs": [],
   "source": [
    "tup2=(10,30,60)"
   ]
  },
  {
   "cell_type": "code",
   "execution_count": 10,
   "id": "c2c01259-224e-4e7c-bcff-744b53251282",
   "metadata": {},
   "outputs": [
    {
     "data": {
      "text/plain": [
       "(10, 30, 60)"
      ]
     },
     "execution_count": 10,
     "metadata": {},
     "output_type": "execute_result"
    }
   ],
   "source": [
    "tup2"
   ]
  },
  {
   "cell_type": "code",
   "execution_count": 12,
   "id": "3ed27a54-6946-47b1-bcfc-899af705e874",
   "metadata": {},
   "outputs": [],
   "source": [
    "tup3=(10.77,'one',(50,100))"
   ]
  },
  {
   "cell_type": "code",
   "execution_count": 14,
   "id": "9beb92b9-297f-4ad2-a1ee-ccb69a2ab4bb",
   "metadata": {},
   "outputs": [
    {
     "data": {
      "text/plain": [
       "(10.77, 'one', (50, 100))"
      ]
     },
     "execution_count": 14,
     "metadata": {},
     "output_type": "execute_result"
    }
   ],
   "source": [
    "tup3"
   ]
  },
  {
   "cell_type": "code",
   "execution_count": 16,
   "id": "b743a267-82af-46a5-b3aa-0d5a6efb4c81",
   "metadata": {},
   "outputs": [
    {
     "data": {
      "text/plain": [
       "3"
      ]
     },
     "execution_count": 16,
     "metadata": {},
     "output_type": "execute_result"
    }
   ],
   "source": [
    "len(tup3)"
   ]
  },
  {
   "cell_type": "markdown",
   "id": "82fd6a61-7efb-4f9a-8c28-362dd210b3da",
   "metadata": {},
   "source": [
    "# Tuple Indexing"
   ]
  },
  {
   "cell_type": "code",
   "execution_count": 19,
   "id": "91e6b82f-41b6-478c-b2cf-5ca6f66dc899",
   "metadata": {},
   "outputs": [
    {
     "data": {
      "text/plain": [
       "10"
      ]
     },
     "execution_count": 19,
     "metadata": {},
     "output_type": "execute_result"
    }
   ],
   "source": [
    "tup2[0]"
   ]
  },
  {
   "cell_type": "code",
   "execution_count": 29,
   "id": "ed170ce0-a849-4a47-8329-de8538d1f92e",
   "metadata": {},
   "outputs": [
    {
     "data": {
      "text/plain": [
       "'one'"
      ]
     },
     "execution_count": 29,
     "metadata": {},
     "output_type": "execute_result"
    }
   ],
   "source": [
    "tup3[1]"
   ]
  },
  {
   "cell_type": "code",
   "execution_count": 31,
   "id": "928f02cb-ba45-4ed7-abdf-da837a60d625",
   "metadata": {},
   "outputs": [
    {
     "data": {
      "text/plain": [
       "'o'"
      ]
     },
     "execution_count": 31,
     "metadata": {},
     "output_type": "execute_result"
    }
   ],
   "source": [
    "tup3[1][0]"
   ]
  },
  {
   "cell_type": "code",
   "execution_count": 35,
   "id": "36e84f63-4310-413a-b4e6-6d15d0bea716",
   "metadata": {},
   "outputs": [
    {
     "data": {
      "text/plain": [
       "(50, 100)"
      ]
     },
     "execution_count": 35,
     "metadata": {},
     "output_type": "execute_result"
    }
   ],
   "source": [
    "tup3[-1]"
   ]
  },
  {
   "cell_type": "code",
   "execution_count": 37,
   "id": "b2b0d440-64a2-43b3-b0b3-818a50500d8b",
   "metadata": {},
   "outputs": [
    {
     "data": {
      "text/plain": [
       "(10.77, 'one', (50, 100))"
      ]
     },
     "execution_count": 37,
     "metadata": {},
     "output_type": "execute_result"
    }
   ],
   "source": [
    "tup3"
   ]
  },
  {
   "cell_type": "code",
   "execution_count": 39,
   "id": "9eb852a0-d2be-4e9b-bafe-39b1a5fe14fd",
   "metadata": {},
   "outputs": [],
   "source": [
    "mytuple=('one','two','three','four','five')"
   ]
  },
  {
   "cell_type": "code",
   "execution_count": 41,
   "id": "a532cf03-9f8d-4729-8b97-62f2a21b2254",
   "metadata": {},
   "outputs": [
    {
     "data": {
      "text/plain": [
       "('one', 'two', 'three', 'four', 'five')"
      ]
     },
     "execution_count": 41,
     "metadata": {},
     "output_type": "execute_result"
    }
   ],
   "source": [
    "mytuple"
   ]
  },
  {
   "cell_type": "code",
   "execution_count": 43,
   "id": "77c12af2-fcb0-4293-a012-dbb4c11d34df",
   "metadata": {},
   "outputs": [
    {
     "data": {
      "text/plain": [
       "('one', 'two', 'three')"
      ]
     },
     "execution_count": 43,
     "metadata": {},
     "output_type": "execute_result"
    }
   ],
   "source": [
    "mytuple[0:3]"
   ]
  },
  {
   "cell_type": "code",
   "execution_count": 45,
   "id": "201495f5-e695-480a-9859-f33bea01c62d",
   "metadata": {},
   "outputs": [
    {
     "data": {
      "text/plain": [
       "('two', 'three', 'four')"
      ]
     },
     "execution_count": 45,
     "metadata": {},
     "output_type": "execute_result"
    }
   ],
   "source": [
    "mytuple[1:4]"
   ]
  },
  {
   "cell_type": "code",
   "execution_count": 47,
   "id": "2c08c76c-ef3a-46d4-9dc9-34cfbc05f151",
   "metadata": {},
   "outputs": [
    {
     "data": {
      "text/plain": [
       "('one', 'two', 'three')"
      ]
     },
     "execution_count": 47,
     "metadata": {},
     "output_type": "execute_result"
    }
   ],
   "source": [
    "mytuple[:3]"
   ]
  },
  {
   "cell_type": "code",
   "execution_count": 49,
   "id": "d05c734f-f3ea-44b6-a8b8-1364683874aa",
   "metadata": {},
   "outputs": [
    {
     "data": {
      "text/plain": [
       "('one', 'two')"
      ]
     },
     "execution_count": 49,
     "metadata": {},
     "output_type": "execute_result"
    }
   ],
   "source": [
    "mytuple[:2]"
   ]
  },
  {
   "cell_type": "code",
   "execution_count": 59,
   "id": "9f3c73ac-618f-4a1d-9045-b248de8e6fcc",
   "metadata": {},
   "outputs": [
    {
     "data": {
      "text/plain": [
       "('one', 'two', 'three', 'four')"
      ]
     },
     "execution_count": 59,
     "metadata": {},
     "output_type": "execute_result"
    }
   ],
   "source": [
    "mytuple[:-1]"
   ]
  },
  {
   "cell_type": "code",
   "execution_count": 55,
   "id": "d2386504-9195-4711-b657-24a9c87dc61e",
   "metadata": {},
   "outputs": [
    {
     "data": {
      "text/plain": [
       "('one', 'two', 'three')"
      ]
     },
     "execution_count": 55,
     "metadata": {},
     "output_type": "execute_result"
    }
   ],
   "source": [
    "mytuple[:-2]"
   ]
  },
  {
   "cell_type": "code",
   "execution_count": 57,
   "id": "2afe50d1-f71a-4310-812f-6700a5e61a37",
   "metadata": {},
   "outputs": [
    {
     "data": {
      "text/plain": [
       "('four', 'five')"
      ]
     },
     "execution_count": 57,
     "metadata": {},
     "output_type": "execute_result"
    }
   ],
   "source": [
    "mytuple[-2:]"
   ]
  },
  {
   "cell_type": "code",
   "execution_count": 61,
   "id": "d378ff12-c027-4e4b-82cf-25a93ed8d8f1",
   "metadata": {},
   "outputs": [
    {
     "data": {
      "text/plain": [
       "('five',)"
      ]
     },
     "execution_count": 61,
     "metadata": {},
     "output_type": "execute_result"
    }
   ],
   "source": [
    "mytuple[-1:]"
   ]
  },
  {
   "cell_type": "code",
   "execution_count": 63,
   "id": "a048cc84-f11e-4846-a45c-e338fc887968",
   "metadata": {},
   "outputs": [
    {
     "data": {
      "text/plain": [
       "('one', 'two', 'three', 'four', 'five')"
      ]
     },
     "execution_count": 63,
     "metadata": {},
     "output_type": "execute_result"
    }
   ],
   "source": [
    "mytuple[:]"
   ]
  },
  {
   "cell_type": "markdown",
   "id": "168c4674-c195-40f7-911d-50298cec8f1a",
   "metadata": {},
   "source": [
    "# REMOVE & CHANGE ITEMS"
   ]
  },
  {
   "cell_type": "code",
   "execution_count": 87,
   "id": "e5111df5-ec5a-4518-9f35-604ad8157e9f",
   "metadata": {},
   "outputs": [],
   "source": [
    "mytuple=('one','two','three','four','five')"
   ]
  },
  {
   "cell_type": "code",
   "execution_count": 89,
   "id": "75d313b3-3b1a-4704-8e05-1fc3c809e1f8",
   "metadata": {},
   "outputs": [
    {
     "data": {
      "text/plain": [
       "('one', 'two', 'three', 'four', 'five')"
      ]
     },
     "execution_count": 89,
     "metadata": {},
     "output_type": "execute_result"
    }
   ],
   "source": [
    "mytuple"
   ]
  },
  {
   "cell_type": "code",
   "execution_count": 93,
   "id": "bb12412b-7006-4c0d-a9c9-c86f88cff9fa",
   "metadata": {},
   "outputs": [
    {
     "ename": "TypeError",
     "evalue": "'tuple' object doesn't support item deletion",
     "output_type": "error",
     "traceback": [
      "\u001b[0;31m---------------------------------------------------------------------------\u001b[0m",
      "\u001b[0;31mTypeError\u001b[0m                                 Traceback (most recent call last)",
      "Cell \u001b[0;32mIn[93], line 1\u001b[0m\n\u001b[0;32m----> 1\u001b[0m \u001b[38;5;28;01mdel\u001b[39;00m mytuple[\u001b[38;5;241m0\u001b[39m]\n",
      "\u001b[0;31mTypeError\u001b[0m: 'tuple' object doesn't support item deletion"
     ]
    }
   ],
   "source": [
    "del mytuple[0]"
   ]
  },
  {
   "cell_type": "code",
   "execution_count": 103,
   "id": "5c2c078d-ed78-4651-a2da-648c841f022f",
   "metadata": {},
   "outputs": [
    {
     "ename": "TypeError",
     "evalue": "'tuple' object does not support item assignment",
     "output_type": "error",
     "traceback": [
      "\u001b[0;31m---------------------------------------------------------------------------\u001b[0m",
      "\u001b[0;31mTypeError\u001b[0m                                 Traceback (most recent call last)",
      "Cell \u001b[0;32mIn[103], line 1\u001b[0m\n\u001b[0;32m----> 1\u001b[0m mytuple[\u001b[38;5;241m0\u001b[39m]\u001b[38;5;241m=\u001b[39m\u001b[38;5;241m1\u001b[39m\n",
      "\u001b[0;31mTypeError\u001b[0m: 'tuple' object does not support item assignment"
     ]
    }
   ],
   "source": [
    "mytuple[0]=1"
   ]
  },
  {
   "cell_type": "code",
   "execution_count": 99,
   "id": "25f364a2-fa8a-4a64-8f35-f7563af4a021",
   "metadata": {},
   "outputs": [
    {
     "data": {
      "text/plain": [
       "('one', 'two', 'three', 'four', 'five')"
      ]
     },
     "execution_count": 99,
     "metadata": {},
     "output_type": "execute_result"
    }
   ],
   "source": [
    "mytuple"
   ]
  },
  {
   "cell_type": "code",
   "execution_count": 115,
   "id": "b76bc25b-421c-4910-a59c-ee6e47209c73",
   "metadata": {},
   "outputs": [],
   "source": [
    "mytuple1=(1,2,3,4,5,6)"
   ]
  },
  {
   "cell_type": "code",
   "execution_count": 117,
   "id": "e58959c4-9d9a-4306-a209-8556cefc3d9b",
   "metadata": {},
   "outputs": [
    {
     "data": {
      "text/plain": [
       "(1, 2, 3, 4, 5, 6)"
      ]
     },
     "execution_count": 117,
     "metadata": {},
     "output_type": "execute_result"
    }
   ],
   "source": [
    "mytuple1"
   ]
  },
  {
   "cell_type": "code",
   "execution_count": 121,
   "id": "c7874e36-4d0a-4e5b-810d-c6cbe0c582f8",
   "metadata": {},
   "outputs": [
    {
     "ename": "NameError",
     "evalue": "name 'mytuple1' is not defined",
     "output_type": "error",
     "traceback": [
      "\u001b[0;31m---------------------------------------------------------------------------\u001b[0m",
      "\u001b[0;31mNameError\u001b[0m                                 Traceback (most recent call last)",
      "Cell \u001b[0;32mIn[121], line 1\u001b[0m\n\u001b[0;32m----> 1\u001b[0m \u001b[38;5;28;01mdel\u001b[39;00m mytuple1\n",
      "\u001b[0;31mNameError\u001b[0m: name 'mytuple1' is not defined"
     ]
    }
   ],
   "source": [
    "del mytuple1"
   ]
  },
  {
   "cell_type": "markdown",
   "id": "3bda3b93-f006-464e-ba83-2e3156641f72",
   "metadata": {},
   "source": [
    "# LOOP"
   ]
  },
  {
   "cell_type": "code",
   "execution_count": 126,
   "id": "5fac3ce8-933a-4025-a2c3-fb269f2af7c9",
   "metadata": {},
   "outputs": [],
   "source": [
    "mytuple=('one','two','three','four','five')"
   ]
  },
  {
   "cell_type": "code",
   "execution_count": 128,
   "id": "ea7cf001-68e5-4530-91de-2525d4fb8423",
   "metadata": {},
   "outputs": [
    {
     "data": {
      "text/plain": [
       "('one', 'two', 'three', 'four', 'five')"
      ]
     },
     "execution_count": 128,
     "metadata": {},
     "output_type": "execute_result"
    }
   ],
   "source": [
    "mytuple"
   ]
  },
  {
   "cell_type": "code",
   "execution_count": 130,
   "id": "d449304a-d319-4b61-8a76-a23f6d66ab8e",
   "metadata": {},
   "outputs": [
    {
     "name": "stdout",
     "output_type": "stream",
     "text": [
      "one\n",
      "two\n",
      "three\n",
      "four\n",
      "five\n"
     ]
    }
   ],
   "source": [
    "for i in mytuple:\n",
    "    print(i)"
   ]
  },
  {
   "cell_type": "code",
   "execution_count": 134,
   "id": "691eddce-60cd-497e-b3f7-fae514694d9b",
   "metadata": {},
   "outputs": [
    {
     "name": "stdout",
     "output_type": "stream",
     "text": [
      "(0, 'one')\n",
      "(1, 'two')\n",
      "(2, 'three')\n",
      "(3, 'four')\n",
      "(4, 'five')\n"
     ]
    }
   ],
   "source": [
    "for i in enumerate(mytuple):\n",
    "    print(i)"
   ]
  },
  {
   "cell_type": "markdown",
   "id": "d3637eae-0ca7-4737-a722-db9bc04278b4",
   "metadata": {},
   "source": [
    "# TUPLE MEMBERSHIP"
   ]
  },
  {
   "cell_type": "code",
   "execution_count": 139,
   "id": "8dcd3f63-5113-4a64-b749-8c8ba44c23ed",
   "metadata": {},
   "outputs": [],
   "source": [
    "mytuple=('one','two','three','four','five')"
   ]
  },
  {
   "cell_type": "code",
   "execution_count": 141,
   "id": "88b00503-82a0-41b1-a59b-6917b8c9d18d",
   "metadata": {},
   "outputs": [
    {
     "data": {
      "text/plain": [
       "('one', 'two', 'three', 'four', 'five')"
      ]
     },
     "execution_count": 141,
     "metadata": {},
     "output_type": "execute_result"
    }
   ],
   "source": [
    "mytuple"
   ]
  },
  {
   "cell_type": "code",
   "execution_count": 147,
   "id": "96c461a9-e908-41b3-b712-ccff42480eee",
   "metadata": {},
   "outputs": [
    {
     "name": "stdout",
     "output_type": "stream",
     "text": [
      "one is present in the mytuple\n"
     ]
    }
   ],
   "source": [
    "if 'one' in mytuple:\n",
    "    print('one is present in the mytuple')\n",
    "else:\n",
    "    print('one is not present in the mytuple')"
   ]
  },
  {
   "cell_type": "code",
   "execution_count": 149,
   "id": "c0fc9d8f-07ea-4f6f-9c01-d9f756f6cd2c",
   "metadata": {},
   "outputs": [
    {
     "data": {
      "text/plain": [
       "True"
      ]
     },
     "execution_count": 149,
     "metadata": {},
     "output_type": "execute_result"
    }
   ],
   "source": [
    "'three' in mytuple"
   ]
  },
  {
   "cell_type": "code",
   "execution_count": 151,
   "id": "a5b6762e-a513-412b-8e38-33908e2de044",
   "metadata": {},
   "outputs": [
    {
     "data": {
      "text/plain": [
       "False"
      ]
     },
     "execution_count": 151,
     "metadata": {},
     "output_type": "execute_result"
    }
   ],
   "source": [
    "'ten' in mytuple"
   ]
  },
  {
   "cell_type": "markdown",
   "id": "343b2e1b-a61d-4e60-b3fe-2a6883d9c144",
   "metadata": {},
   "source": [
    "# INDEX POSITION"
   ]
  },
  {
   "cell_type": "code",
   "execution_count": 154,
   "id": "3ad22c4c-d6d9-40a5-af4a-914a84c6044b",
   "metadata": {},
   "outputs": [
    {
     "data": {
      "text/plain": [
       "('one', 'two', 'three', 'four', 'five')"
      ]
     },
     "execution_count": 154,
     "metadata": {},
     "output_type": "execute_result"
    }
   ],
   "source": [
    "mytuple"
   ]
  },
  {
   "cell_type": "code",
   "execution_count": 156,
   "id": "14b9094e-72f7-423c-8e52-c66a9b7ff1d8",
   "metadata": {},
   "outputs": [
    {
     "data": {
      "text/plain": [
       "1"
      ]
     },
     "execution_count": 156,
     "metadata": {},
     "output_type": "execute_result"
    }
   ],
   "source": [
    "mytuple.index('two')"
   ]
  },
  {
   "cell_type": "code",
   "execution_count": 158,
   "id": "1a11c193-8a3b-415a-81ff-a31b9fe30b35",
   "metadata": {},
   "outputs": [
    {
     "data": {
      "text/plain": [
       "4"
      ]
     },
     "execution_count": 158,
     "metadata": {},
     "output_type": "execute_result"
    }
   ],
   "source": [
    "mytuple.index('five')"
   ]
  },
  {
   "cell_type": "code",
   "execution_count": 162,
   "id": "f8f00292-b4a6-4680-af2a-781cb5045403",
   "metadata": {},
   "outputs": [
    {
     "data": {
      "text/plain": [
       "0"
      ]
     },
     "execution_count": 162,
     "metadata": {},
     "output_type": "execute_result"
    }
   ],
   "source": [
    "mytuple.index('one')"
   ]
  },
  {
   "cell_type": "markdown",
   "id": "10048b22-2991-41eb-b638-ec893e7f7a57",
   "metadata": {},
   "source": [
    "# SORTING "
   ]
  },
  {
   "cell_type": "code",
   "execution_count": 165,
   "id": "ee4ba351-df56-4cbc-962c-3724a51e30bf",
   "metadata": {},
   "outputs": [],
   "source": [
    "mytuple2=(2,33,31,21,43.56,88,76,93,35)"
   ]
  },
  {
   "cell_type": "code",
   "execution_count": 167,
   "id": "14fb75ea-b42b-46e2-8c9b-1b9b364ff95f",
   "metadata": {},
   "outputs": [
    {
     "data": {
      "text/plain": [
       "(2, 33, 31, 21, 43.56, 88, 76, 93, 35)"
      ]
     },
     "execution_count": 167,
     "metadata": {},
     "output_type": "execute_result"
    }
   ],
   "source": [
    "mytuple2"
   ]
  },
  {
   "cell_type": "code",
   "execution_count": 173,
   "id": "e94ac9ec-7b7f-4e54-9514-e0024ec06ae7",
   "metadata": {},
   "outputs": [
    {
     "data": {
      "text/plain": [
       "[2, 21, 31, 33, 35, 43.56, 76, 88, 93]"
      ]
     },
     "execution_count": 173,
     "metadata": {},
     "output_type": "execute_result"
    }
   ],
   "source": [
    "sorted(mytuple2)"
   ]
  },
  {
   "cell_type": "code",
   "execution_count": 175,
   "id": "7d84a99b-dadc-4dc5-b822-4e365e668b77",
   "metadata": {},
   "outputs": [
    {
     "data": {
      "text/plain": [
       "[93, 88, 76, 43.56, 35, 33, 31, 21, 2]"
      ]
     },
     "execution_count": 175,
     "metadata": {},
     "output_type": "execute_result"
    }
   ],
   "source": [
    "sorted(mytuple2,reverse=True)"
   ]
  },
  {
   "cell_type": "markdown",
   "id": "ba743b62-0839-4464-afe5-69cb6a4d1390",
   "metadata": {},
   "source": [
    "## 24th april "
   ]
  },
  {
   "cell_type": "code",
   "execution_count": null,
   "id": "b4333b48-3dc8-433c-9765-9d189457c8e5",
   "metadata": {},
   "outputs": [],
   "source": []
  }
 ],
 "metadata": {
  "kernelspec": {
   "display_name": "Python [conda env:base] *",
   "language": "python",
   "name": "conda-base-py"
  },
  "language_info": {
   "codemirror_mode": {
    "name": "ipython",
    "version": 3
   },
   "file_extension": ".py",
   "mimetype": "text/x-python",
   "name": "python",
   "nbconvert_exporter": "python",
   "pygments_lexer": "ipython3",
   "version": "3.12.7"
  }
 },
 "nbformat": 4,
 "nbformat_minor": 5
}
